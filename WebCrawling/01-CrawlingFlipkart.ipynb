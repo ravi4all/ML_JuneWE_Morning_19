{
 "cells": [
  {
   "cell_type": "code",
   "execution_count": 1,
   "metadata": {},
   "outputs": [],
   "source": [
    "import bs4\n",
    "import urllib.request as url"
   ]
  },
  {
   "cell_type": "markdown",
   "metadata": {},
   "source": [
    "# Fetch HTTP Response"
   ]
  },
  {
   "cell_type": "code",
   "execution_count": 2,
   "metadata": {},
   "outputs": [],
   "source": [
    "httpRes = url.urlopen('https://www.flipkart.com/search?q=laptop&sid=6bo%2Cb5g&as=on&as-show=on&otracker=AS_QueryStore_OrganicAutoSuggest_0_6&otracker1=AS_QueryStore_OrganicAutoSuggest_0_6&as-pos=0&as-type=RECENT&as-backfill=on')"
   ]
  },
  {
   "cell_type": "code",
   "execution_count": 3,
   "metadata": {},
   "outputs": [
    {
     "data": {
      "text/plain": [
       "<http.client.HTTPResponse at 0x1b5f2dec860>"
      ]
     },
     "execution_count": 3,
     "metadata": {},
     "output_type": "execute_result"
    }
   ],
   "source": [
    "httpRes"
   ]
  },
  {
   "cell_type": "code",
   "execution_count": 4,
   "metadata": {},
   "outputs": [],
   "source": [
    "page = bs4.BeautifulSoup(httpRes)"
   ]
  },
  {
   "cell_type": "code",
   "execution_count": 6,
   "metadata": {},
   "outputs": [],
   "source": [
    "div = page.find('div', class_='_3wU53n')"
   ]
  },
  {
   "cell_type": "code",
   "execution_count": 7,
   "metadata": {},
   "outputs": [
    {
     "data": {
      "text/plain": [
       "<div class=\"_3wU53n\">Lenovo Yoga 730 Core i7 8th Gen - (8 GB/512 GB SSD/Windows 10 Home) 730-13IKB 2 in 1 Laptop</div>"
      ]
     },
     "execution_count": 7,
     "metadata": {},
     "output_type": "execute_result"
    }
   ],
   "source": [
    "div"
   ]
  },
  {
   "cell_type": "code",
   "execution_count": 8,
   "metadata": {},
   "outputs": [
    {
     "data": {
      "text/plain": [
       "'Lenovo Yoga 730 Core i7 8th Gen - (8 GB/512 GB SSD/Windows 10 Home) 730-13IKB 2 in 1 Laptop'"
      ]
     },
     "execution_count": 8,
     "metadata": {},
     "output_type": "execute_result"
    }
   ],
   "source": [
    "div.text"
   ]
  },
  {
   "cell_type": "code",
   "execution_count": 9,
   "metadata": {},
   "outputs": [],
   "source": [
    "divList = page.find_all('div', class_='_3wU53n')"
   ]
  },
  {
   "cell_type": "code",
   "execution_count": 11,
   "metadata": {},
   "outputs": [
    {
     "name": "stdout",
     "output_type": "stream",
     "text": [
      "Lenovo Yoga 730 Core i7 8th Gen - (8 GB/512 GB SSD/Windows 10 Home) 730-13IKB 2 in 1 Laptop\n",
      "HP Pavilion Core i5 8th Gen - (8 GB/1 TB HDD/128 GB SSD/Windows 10 Home/4 GB Graphics) 15-cx0141TX Gam...\n",
      "Acer Nitro 5 Core i5 8th Gen - (8 GB/1 TB HDD/Windows 10 Home/4 GB Graphics) AN515-52 Gaming Laptop\n",
      "HP 15q APU Dual Core A9 - (4 GB/1 TB HDD/Windows 10 Home) 15q-dy0007AU Laptop\n",
      "Apple MacBook Air Core i5 5th Gen - (8 GB/128 GB SSD/Mac OS Sierra) MQD32HN/A A1466\n",
      "Acer Aspire 3 Pentium Gold - (4 GB/500 GB HDD/Windows 10 Home) A315-53 Laptop\n",
      "Asus Pentium Quad Core - (4 GB/1 TB HDD/Windows 10 Home) X540MA-GQ098T Laptop\n",
      "HP 14q Core i3 7th Gen - (4 GB/1 TB HDD/Windows 10 Home) 14q-CS0005TU Thin and Light Laptop\n",
      "HP 14q Core i3 7th Gen - (4 GB/1 TB HDD/DOS) 14q-cs0009TU Thin and Light Laptop\n",
      "Dell Inspiron 15 5000 Ryzen 3 Dual Core - (4 GB/1 TB HDD/Windows 10 Home) 5575 Laptop\n",
      "Dell Inspiron 14 3000 Core i3 7th Gen - (4 GB/1 TB HDD/Linux) inspiron 3467 Laptop\n",
      "Acer Aspire 5 Core i5 7th Gen - (8 GB/1 TB HDD/Windows 10 Home/2 GB Graphics) A515-51G -5673 Laptop\n",
      "Lenovo Ideapad 330 Core i5 8th Gen - (8 GB/1 TB HDD/DOS/2 GB Graphics) 330-15IKB Laptop\n",
      "Lenovo Ideapad 330E Core i5 8th Gen - (8 GB/1 TB HDD/DOS/4 GB Graphics) 330-15IKB Laptop\n",
      "Acer Predator Helios 300 Core i5 8th Gen - (8 GB/1 TB HDD/128 GB SSD/Windows 10 Home/4 GB Graphics) PH...\n",
      "Asus ROG Strix Core i5 8th Gen - (8 GB/1 TB HDD/128 GB SSD/Windows 10 Home/4 GB Graphics) GL503GE-EN16...\n",
      "Acer Aspire 3 Pentium Quad Core - (4 GB/500 GB HDD/Windows 10 Home) A315-32 / A315-33 Laptop\n",
      "Asus ROG Strix Core i7 8th Gen - (8 GB/1 TB HDD/256 GB SSD/Windows 10 Home/4 GB Graphics) GL503GE-EN26...\n",
      "Asus ROG Strix Core i5 8th Gen - (8 GB/1 TB HDD/256 GB SSD/Windows 10 Home/4 GB Graphics) GL503GE-EN26...\n",
      "Lenovo Ideapad 330 Core i3 7th Gen - (4 GB + 16 GB Optane/1 TB HDD/Windows 10 Home/2 GB Graphics) 330-...\n",
      "HP 15 Core i3 7th Gen - (4 GB/1 TB HDD/Windows 10 Home) 15-da0327TU Laptop\n",
      "Acer Predator Helios 300 Core i7 8th Gen - (8 GB/1 TB HDD/128 GB SSD/Windows 10 Home/4 GB Graphics) PH...\n",
      "Acer Aspire 3 Ryzen 5 Quad Core - (4 GB/1 TB HDD/Windows 10 Home) A315-41 / A315-41G / A315-41-R45R La...\n",
      "Lenovo Ideapad 720S Core i7 8th Gen - (8 GB/512 GB SSD/Windows 10 Home) 720S-13IKB Thin and Light Lapt...\n"
     ]
    }
   ],
   "source": [
    "for item in divList:\n",
    "    print(item.text)"
   ]
  },
  {
   "cell_type": "code",
   "execution_count": null,
   "metadata": {},
   "outputs": [],
   "source": []
  }
 ],
 "metadata": {
  "kernelspec": {
   "display_name": "Python 3",
   "language": "python",
   "name": "python3"
  },
  "language_info": {
   "codemirror_mode": {
    "name": "ipython",
    "version": 3
   },
   "file_extension": ".py",
   "mimetype": "text/x-python",
   "name": "python",
   "nbconvert_exporter": "python",
   "pygments_lexer": "ipython3",
   "version": "3.7.3"
  }
 },
 "nbformat": 4,
 "nbformat_minor": 2
}
