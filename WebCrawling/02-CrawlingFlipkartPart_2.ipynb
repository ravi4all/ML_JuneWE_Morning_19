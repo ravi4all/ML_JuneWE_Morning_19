{
 "cells": [
  {
   "cell_type": "code",
   "execution_count": 1,
   "metadata": {},
   "outputs": [],
   "source": [
    "import bs4\n",
    "import urllib.request as url"
   ]
  },
  {
   "cell_type": "code",
   "execution_count": 61,
   "metadata": {},
   "outputs": [
    {
     "name": "stdout",
     "output_type": "stream",
     "text": [
      "Enter Product Name : books\n"
     ]
    }
   ],
   "source": [
    "userInput = input(\"Enter Product Name : \")\n",
    "httpRes = url.urlopen('https://www.flipkart.com/search?q='+userInput)"
   ]
  },
  {
   "cell_type": "code",
   "execution_count": 62,
   "metadata": {},
   "outputs": [],
   "source": [
    "page = bs4.BeautifulSoup(httpRes)"
   ]
  },
  {
   "cell_type": "code",
   "execution_count": 63,
   "metadata": {},
   "outputs": [],
   "source": [
    "divList = page.find_all(\"div\",class_='_3wU53n')"
   ]
  },
  {
   "cell_type": "code",
   "execution_count": 64,
   "metadata": {},
   "outputs": [],
   "source": [
    "# for i in range(len(divList)):\n",
    "#     print(divList[i].text)"
   ]
  },
  {
   "cell_type": "code",
   "execution_count": 65,
   "metadata": {},
   "outputs": [
    {
     "name": "stdout",
     "output_type": "stream",
     "text": [
      "The Belated Bachelor PartyEnglish, Paperback, Ravinder Singh4.7(197)₹123₹19938% offOffersSpecial Price & 1 More\n",
      "RRB NTPC Guide 2019English, Paperback, Arihant Publication India Limited4.3(2,267)₹151₹26543% offOffersSpecial Price & 1 More\n",
      "ARIHANT ALL IN ONE CBSE CLASS-10 ENGLISH LANGUAGE & LIT...ENGLISH, ARIHANT PRAKASHAN, GAJENDRA SINGH4.4(140)₹379₹44013% off\n",
      "AdBefore you start up - How to Prepare to Make Your Start...English, Paperback, Goyal Pankaj4.5(66)₹174₹25030% off\n",
      "ARIHANT ALL IN ONE SOCIEL SCIENCE CLASS X FOR 2020 BOAR...ENGLISH, Paperback, NA4.4(138)₹284₹43033% offOffersSpecial Price & 1 More\n",
      "The Power of Your Subconscious MindEnglish, Paperback, Joseph Murphy4.5(8,550)₹70₹19964% offOffersSpecial Price\n",
      "Quantitative Aptitude for Competitive Examinations 2017...English, Paperback, Aggarwal R. S.4.4(20,908)₹425₹74943% offOffersSpecial Price & 1 More\n",
      "Civil Engineering: Through Objective Type QuestionsEnglish, Paperback, Gupta4.3(4,083)₹389₹3951% offOffersCombo Offer\n",
      "ALL IN ONE ENGLISH CORE CBSE CLASS XIIENGLISH, Paperback, ARIHANT EXPERT $%4.5(74)₹325₹39517% off\n",
      "Cbse Chemistry Chapterwise Solved Papers Class12thEnglish, Paperback, unknown4.5(4,236)₹159₹28043% offOffersSpecial Price & 1 More\n",
      "40 Years' Chapterwise Topicwise Solved Papers (2018-197...English, Paperback, Shahi Ranjeet4.5(3,101)₹228₹42546% offOffersSpecial Price & 1 More\n",
      "Manorama Yearbook 2019 First EditionEnglish, Paperback, Shashi Tharoor, Tushar A. Gandhi, Avik Sarkar, Paranjoy Guha Thakurta4.6(4,385)₹216₹30028% offOffersSpecial Price & 1 More\n",
      "LUCENT'S GENERAL KNOWLEDGE GK BOOKENGLISH, Paperback, Binay Karna4.3(136)₹169₹21621% off\n",
      "AdRahasya (Hindi Of The Secret)Hindi, Paperback, Rhonda Byrne4.3(4,716)₹299₹39925% off\n",
      "Objective General EnglishEnglish, Paperback, Bakshi S. P.4.3(14,832)₹153₹28546% offOffersSpecial Price & 1 More\n",
      "Englishwale.com English Speaking Course BookHindi, Hardcover, Pooja Rana4.3(6,844)₹159₹19920% offOffersSpecial Price & 1 More\n",
      "Life's Amazing SecretsEnglish, Paperback, Das Gaur Gopal4.6(12,611)₹108₹25056% offOffersSpecial Price & 1 More\n",
      "CTET Success Master Paper-I Class I-V Shikshak Ke LiyeHindi, Paperback, Arihant Experts4.3(426)₹272₹45540% offOffersSpecial Price & 1 More\n",
      "Concepts of Physics (Volume - 1) 1st  EditionEnglish, Paperback, H C Verma4.5(10,793)₹326₹43024% offOffersSpecial Price & 1 More\n",
      "AdThe Greatest Short Stories of Leo Tolstoy - A Complete ...English, Paperback, Leo Tolstoy4.5(11)₹175₹25030% off\n",
      "The Girl in Room 105English, Paperback, Chetan Bhagat4.5(15,060)₹118₹19940% offOffersSpecial Price & 1 More\n",
      "Inner Engineering - A Yogi's Guide to JoyEnglish, Paperback, Sadhguru4.6(5,740)₹171₹29942% offOffersSpecial Price & 1 More\n",
      "Indian Polity 5 EditionEnglish, Paper back, M. Laxmikanth4.6(34,332)₹450₹80043% offOffersSpecial Price & 1 More\n",
      "AdThe Prince (Pocket Classics)English, Paperback, Niccolo Machiavelli4.4(14)₹90₹999% off\n",
      "Cbse Chapterwise Physics Class 12thEnglish, Paperback, unknown4.5(4,317)₹268₹31514% off\n",
      "ARIHANT ALL IN ONE CBSE CLASS-10 SCIENCE (2019-2020)ENGLISH, ARIHANT PRAKASHAN, IMRAN AHMAD (CHEM.), SONAL SINGH (PHY.), SANUBIA, RASHMI GUPTA (BIO.)4.4(118)₹350₹43519% off\n",
      "SBI Clerical Cadre Junior Associates Preliminary Examin...English, Paperback, Arihant Experts4.5(26)₹171₹28540% offOffersSpecial Price & 1 More\n",
      "Everything is F*cked : A Book About Hope - A Book About...English, Paperback, Mark Manson4.7(170)₹299₹49940% offOffersSpecial Price & 1 More\n",
      "Pathfinder for NDA & NA National Defence Academy Naval ...English, Paperback, Arihant Experts4.5(909)₹408₹75545% offOffersSpecial Price & 1 More\n",
      "AdAnimal FarmEnglish, Paperback, Orwell George4.6(2,359)₹90₹999% off\n",
      "How to Prepare for Quantitative Aptitude for the CATEnglish, Paperback, Sharma Arun4.5(3,194)₹472₹89547% offOffersSpecial Price & 1 More\n",
      "Cbse Chapterwise Solved Paper Mathematics Class 12thEnglish, Paperback, unknown4.5(3,582)₹179₹31543% offOffersSpecial Price & 1 More\n",
      "Oswaal CBSE Question Bank Class 10 Social Science Chapt...English, Paperback, Oswaal Editorial Board4.5(70)₹400₹49919% offOffersSpecial Price\n",
      "Ad50 Inspirational SpeechesEnglish, Paperback, unknown4.2(14)₹174₹25030% off\n",
      "Oswaal CBSE Question Bank Class 10 Science Chapterwise ...English, Paperback, Oswaal Editorial Board4.4(56)₹430₹49913% offOffersSpecial Price\n",
      "The Magic Weight Loss PillEnglish, Paperback, Luke Coutinho4.6(5)₹180₹29939% offOffersSpecial Price & 1 More\n",
      "The Secrets We KeepEnglish, Paperback, Sudeep Nagarkar4.6(886)₹87₹17550% offOffersSpecial Price & 1 More\n",
      "RRB JE MECHANICAL ENGINEERING CBT 2019 ( II STAGE )ENGLISH, Paperback, ARIHANT EXPERT4.2(280)₹365\n",
      "BSc. Agriculture Entrance Exam 2019ENGLISH, Paperback, Arihant Experts4.3(880)₹246₹41040% offOffersCombo Offer\n",
      "AdRRB JE Study Guide 2019 Stage 1ENGLISH, Paperback, ARIHANT EXPERT4.3(2,924)₹153₹28546% offOffersSpecial Price & 1 More\n"
     ]
    }
   ],
   "source": [
    "if len(divList) == 0:\n",
    "    divList = page.find_all(\"div\",class_='_1R0K0g')\n",
    "#     for i in range(len(divList)):\n",
    "#         div2 = divList[i].find('div',class_='_2LFGJH')\n",
    "#         print(div2.text)\n",
    "else:\n",
    "    divList = page.find_all(\"div\",class_='_3wU53n')\n",
    "\n",
    "for i in range(len(divList)):\n",
    "    print(divList[i].text)"
   ]
  },
  {
   "cell_type": "code",
   "execution_count": 66,
   "metadata": {},
   "outputs": [],
   "source": [
    "a_tags = page.find_all('a',class_='_2Xp0TH')"
   ]
  },
  {
   "cell_type": "code",
   "execution_count": 70,
   "metadata": {},
   "outputs": [],
   "source": [
    "pages = []"
   ]
  },
  {
   "cell_type": "code",
   "execution_count": 69,
   "metadata": {},
   "outputs": [
    {
     "data": {
      "text/plain": [
       "'/search?q=books&page=1'"
      ]
     },
     "execution_count": 69,
     "metadata": {},
     "output_type": "execute_result"
    }
   ],
   "source": [
    "# newPath = \"https://www.flipkart.com\"+a_tags[0]['href']"
   ]
  },
  {
   "cell_type": "code",
   "execution_count": 71,
   "metadata": {},
   "outputs": [],
   "source": [
    "for i in range(len(a_tags)):\n",
    "    newPath = \"https://www.flipkart.com\"+a_tags[i]['href']\n",
    "    pages.append(newPath)"
   ]
  },
  {
   "cell_type": "code",
   "execution_count": 72,
   "metadata": {},
   "outputs": [
    {
     "data": {
      "text/plain": [
       "['https://www.flipkart.com/search?q=books&page=1',\n",
       " 'https://www.flipkart.com/search?q=books&page=2',\n",
       " 'https://www.flipkart.com/search?q=books&page=3',\n",
       " 'https://www.flipkart.com/search?q=books&page=4',\n",
       " 'https://www.flipkart.com/search?q=books&page=5',\n",
       " 'https://www.flipkart.com/search?q=books&page=6',\n",
       " 'https://www.flipkart.com/search?q=books&page=7',\n",
       " 'https://www.flipkart.com/search?q=books&page=8',\n",
       " 'https://www.flipkart.com/search?q=books&page=9',\n",
       " 'https://www.flipkart.com/search?q=books&page=10']"
      ]
     },
     "execution_count": 72,
     "metadata": {},
     "output_type": "execute_result"
    }
   ],
   "source": [
    "pages"
   ]
  },
  {
   "cell_type": "code",
   "execution_count": null,
   "metadata": {},
   "outputs": [],
   "source": []
  }
 ],
 "metadata": {
  "kernelspec": {
   "display_name": "Python 3",
   "language": "python",
   "name": "python3"
  },
  "language_info": {
   "codemirror_mode": {
    "name": "ipython",
    "version": 3
   },
   "file_extension": ".py",
   "mimetype": "text/x-python",
   "name": "python",
   "nbconvert_exporter": "python",
   "pygments_lexer": "ipython3",
   "version": "3.7.3"
  }
 },
 "nbformat": 4,
 "nbformat_minor": 2
}
