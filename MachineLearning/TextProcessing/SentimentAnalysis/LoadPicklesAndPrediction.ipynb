{
 "cells": [
  {
   "cell_type": "code",
   "execution_count": 3,
   "metadata": {},
   "outputs": [],
   "source": [
    "import pandas as pd\n",
    "import pickle\n",
    "from nltk.tokenize import word_tokenize\n",
    "from nltk.corpus import stopwords\n",
    "from nltk.stem import WordNetLemmatizer"
   ]
  },
  {
   "cell_type": "code",
   "execution_count": 2,
   "metadata": {},
   "outputs": [],
   "source": [
    "def textProcessing(data):\n",
    "    tokens = []\n",
    "    for i in range(len(data)):\n",
    "        tokens.append(word_tokenize(data['Review'].iloc[i].lower()))\n",
    "    engStopwords = stopwords.words('english')\n",
    "    engStopwords.extend(['.','?',\"'s\",\"also\",\",\",\"-\",\"!\"])\n",
    "    \n",
    "    wordList = []\n",
    "    for tokenList in tokens:\n",
    "        t = []\n",
    "        for token in tokenList:\n",
    "            if token not in engStopwords:\n",
    "                t.append(token)\n",
    "        wordList.append(t)\n",
    "        \n",
    "    wnet = WordNetLemmatizer()\n",
    "    \n",
    "    for i in range(len(wordList)):\n",
    "        for j in range(len(wordList[i])):\n",
    "            wordList[i][j] = wnet.lemmatize(wordList[i][j], pos='v')\n",
    "    \n",
    "    for i in range(len(wordList)):\n",
    "        wordList[i] = ' '.join(wordList[i])\n",
    "    \n",
    "    return wordList"
   ]
  },
  {
   "cell_type": "code",
   "execution_count": 4,
   "metadata": {},
   "outputs": [],
   "source": [
    "def testPrediction(review):\n",
    "    file = open('model.pkl','rb')\n",
    "    reg = pickle.load(file)\n",
    "    file.close()\n",
    "    file = open(\"tfidf.pkl\",'rb')\n",
    "    tfidf = pickle.load(file)\n",
    "    file.close()\n",
    "    test_df = pd.DataFrame({\"Review\":[review]})\n",
    "    wordList = textProcessing(test_df)\n",
    "    matrix = tfidf.transform(wordList)\n",
    "    pred = reg.predict(matrix)\n",
    "    return pred"
   ]
  },
  {
   "cell_type": "code",
   "execution_count": 5,
   "metadata": {},
   "outputs": [
    {
     "data": {
      "text/plain": [
       "array([0], dtype=int64)"
      ]
     },
     "execution_count": 5,
     "metadata": {},
     "output_type": "execute_result"
    }
   ],
   "source": [
    "rev = \"Today I thought that I should watch this movie so I booked tickets for the movie. The show was at 12:00 PM. When it was the time for intervals I was regretting my decision.Salman does not know how to act and he was annoying. I suggest you not to watch this movie and waste your money. I think it's enough for now Bollywood is intolerable\"\n",
    "testPrediction(rev)"
   ]
  },
  {
   "cell_type": "code",
   "execution_count": null,
   "metadata": {},
   "outputs": [],
   "source": []
  }
 ],
 "metadata": {
  "kernelspec": {
   "display_name": "Python 3",
   "language": "python",
   "name": "python3"
  },
  "language_info": {
   "codemirror_mode": {
    "name": "ipython",
    "version": 3
   },
   "file_extension": ".py",
   "mimetype": "text/x-python",
   "name": "python",
   "nbconvert_exporter": "python",
   "pygments_lexer": "ipython3",
   "version": "3.7.3"
  }
 },
 "nbformat": 4,
 "nbformat_minor": 2
}
